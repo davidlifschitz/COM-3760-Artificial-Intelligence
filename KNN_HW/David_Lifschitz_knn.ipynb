{
  "nbformat": 4,
  "nbformat_minor": 0,
  "metadata": {
    "colab": {
      "provenance": []
    },
    "kernelspec": {
      "name": "python3",
      "display_name": "Python 3"
    },
    "language_info": {
      "name": "python"
    }
  },
  "cells": [
    {
      "cell_type": "markdown",
      "metadata": {
        "id": "PELNEMlpx2Ri"
      },
      "source": [
        "Import the libraries math (for square root and absolute value) and pandas and numpy for reading csv files."
      ]
    },
    {
      "cell_type": "code",
      "metadata": {
        "id": "mkYTODtExydl"
      },
      "source": [
        "import math\n",
        "import pandas as pd\n",
        "import numpy as np"
      ],
      "execution_count": 1,
      "outputs": []
    },
    {
      "cell_type": "markdown",
      "metadata": {
        "id": "zCgb1pGFx8od"
      },
      "source": [
        "Make an untagged vector, point, and two tagged vectors, data1 and data2:"
      ]
    },
    {
      "cell_type": "code",
      "metadata": {
        "id": "Ifbww56byViT"
      },
      "source": [
        "point = [1, 0, 0, '?'] #(an unknown tag)\n",
        "data1 = [1, 1, 1, 'M']\n",
        "data2 = [1, 3, 0, 'F']\n"
      ],
      "execution_count": 2,
      "outputs": []
    },
    {
      "cell_type": "markdown",
      "metadata": {
        "id": "2hiHzqnsyhW2"
      },
      "source": [
        "Write code to separate the data (X) from the tag (Y).  Your output should be:\n",
        "\n",
        "The vector [1, 1, 1] has tag M\n",
        "\n",
        "The vector [1, 3, 0] has tag F\n"
      ]
    },
    {
      "cell_type": "code",
      "metadata": {
        "id": "CdgKt99HyaKT",
        "colab": {
          "base_uri": "https://localhost:8080/"
        },
        "outputId": "d5ce1550-f622-4897-9375-1771cbb5a2ce"
      },
      "source": [
        "print(\"The vector \" , data1[0:-1], \" has tag \", data1[-1])"
      ],
      "execution_count": 3,
      "outputs": [
        {
          "output_type": "stream",
          "name": "stdout",
          "text": [
            "The vector  [1, 1, 1]  has tag  M\n"
          ]
        }
      ]
    },
    {
      "cell_type": "markdown",
      "metadata": {
        "id": "Nknnav39yb8C"
      },
      "source": [
        "Now let's classify the point as either M or F.  We'll do this by setting k = 1 and using the Euclidean distance.  We'll define that as: "
      ]
    },
    {
      "cell_type": "code",
      "metadata": {
        "id": "gT0HxYoxzG_-"
      },
      "source": [
        "def euclideanDistance(instance1, instance2, length):\n",
        "   distance = 0\n",
        "   for x in range(length):\n",
        "         #print ('x is ' , x)\n",
        "         num1=float(instance1[x])\n",
        "         num2=float(instance2[x])\n",
        "         distance = distance + pow(num1-num2, 2)\n",
        "   return math.sqrt(distance)\n"
      ],
      "execution_count": 4,
      "outputs": []
    },
    {
      "cell_type": "markdown",
      "metadata": {
        "id": "RhO3w2O4zKG8"
      },
      "source": [
        "Now, find out the distance between data1 and point and data2 and point. Output what the tag should be using euclideanDistance."
      ]
    },
    {
      "cell_type": "code",
      "metadata": {
        "id": "rzHsm2KezPie",
        "colab": {
          "base_uri": "https://localhost:8080/"
        },
        "outputId": "80c357cc-bc0e-4d40-b772-8f006f83cd2a"
      },
      "source": [
        "print(euclideanDistance(data1,point,3))\n",
        "print(euclideanDistance(data2,point,3))"
      ],
      "execution_count": 5,
      "outputs": [
        {
          "output_type": "stream",
          "name": "stdout",
          "text": [
            "1.4142135623730951\n",
            "3.0\n"
          ]
        }
      ]
    },
    {
      "cell_type": "markdown",
      "metadata": {
        "id": "bImk9yPazRCS"
      },
      "source": [
        "Now, let's get more data from a file, myFile.csv. This code will read it for us:"
      ]
    },
    {
      "cell_type": "code",
      "metadata": {
        "id": "xeInyfvYzbKj"
      },
      "source": [
        "url = 'https://github.com/rosenfa/ai/blob/master/myFile.csv?raw=true'\n",
        "df=pd.read_csv(url,  header=0, error_bad_lines=False) \n",
        "#put data in dataset without header line\n",
        "dataset = np.array(df)"
      ],
      "execution_count": null,
      "outputs": []
    },
    {
      "cell_type": "code",
      "source": [
        "dataset"
      ],
      "metadata": {
        "colab": {
          "base_uri": "https://localhost:8080/"
        },
        "id": "ouZLvvDevDMH",
        "outputId": "d9d5caca-d840-4fd3-f4ec-4ae71b1dcb04"
      },
      "execution_count": 7,
      "outputs": [
        {
          "output_type": "execute_result",
          "data": {
            "text/plain": [
              "array([[0, 1, 2, 'F'],\n",
              "       [1, 5, 6, 'F'],\n",
              "       [1, 40, 1, 'M'],\n",
              "       [2, 2, 2, 'F'],\n",
              "       [0, 1, 20, 'M'],\n",
              "       [1, 5, 6, 'M'],\n",
              "       [1, 4, 1, 'M'],\n",
              "       [2, 22, 2, 'F'],\n",
              "       [2, 23, 2, 'M'],\n",
              "       [2, 24, 2, 'M']], dtype=object)"
            ]
          },
          "metadata": {},
          "execution_count": 7
        }
      ]
    },
    {
      "cell_type": "markdown",
      "metadata": {
        "id": "X_1JLdAEzdhu"
      },
      "source": [
        "Show that you understand what you read by:\n",
        "\n",
        "1. Printing the first two vectors in the file\n",
        "2. Printing the Euclidean distance between those two vectors\n",
        "\n",
        "Here is some code which I think might help get you on your way!"
      ]
    },
    {
      "cell_type": "code",
      "metadata": {
        "id": "e4QT_37TzuWr",
        "colab": {
          "base_uri": "https://localhost:8080/"
        },
        "outputId": "2e88847d-ea71-4f29-ae1e-13fbd31268cd"
      },
      "source": [
        "print(len(dataset))\n",
        "print(euclideanDistance(dataset[0],dataset[1],3))"
      ],
      "execution_count": null,
      "outputs": [
        {
          "output_type": "stream",
          "name": "stdout",
          "text": [
            "10\n",
            "5.744562646538029\n"
          ]
        }
      ]
    },
    {
      "cell_type": "markdown",
      "metadata": {
        "id": "Mw03nhZuEyUw"
      },
      "source": [
        "Now assume you have a new value for point:\n",
        "\n",
        "[0,0,100]\n",
        "\n",
        "How would you classify this vector using the Euclidean distance function given all of the vectors in the file?\n",
        "\n",
        "In order to help here is a hint:  \n",
        "\n",
        "We suggest defining some type of data struction to store different vectors' distances and their tags like this:"
      ]
    },
    {
      "cell_type": "code",
      "metadata": {
        "id": "oh8ym0_SE7Rb"
      },
      "source": [
        "class distClass:\n",
        "    dist = -1 #distance of current point from test point\n",
        "    tag = '-' #tag of current point\n"
      ],
      "execution_count": 9,
      "outputs": []
    },
    {
      "cell_type": "markdown",
      "metadata": {
        "id": "-KZR5lxOFP2v"
      },
      "source": [
        "You can then add vector distances like this:"
      ]
    },
    {
      "cell_type": "code",
      "metadata": {
        "colab": {
          "base_uri": "https://localhost:8080/"
        },
        "id": "hdFwOHcCFScU",
        "outputId": "ce2b5272-da03-48a8-9248-31d5be0e2945"
      },
      "source": [
        "eucDistances = [] # list of distances, will hold objects of type distClass\n",
        "\n",
        "temp=dataset[1]\n",
        "label=temp[-1]\n",
        "d=euclideanDistance(point,temp,3)\n",
        "print(\"The distances between \" , point , \" and \" , temp,  \" is \" , str(d))\n",
        "print(\" and the label is \" + label)\n",
        "obj = distClass() #one record's distance and tag\n",
        "obj.dist=d\n",
        "obj.tag=label\n",
        "eucDistances.append(obj)\n"
      ],
      "execution_count": null,
      "outputs": [
        {
          "output_type": "stream",
          "name": "stdout",
          "text": [
            "The distances between  [1, 0, 0, '?']  and  [1 5 6 'F']  is  7.810249675906654\n",
            " and the label is F\n"
          ]
        }
      ]
    },
    {
      "cell_type": "code",
      "metadata": {
        "colab": {
          "base_uri": "https://localhost:8080/"
        },
        "id": "OTJBcLSJa8SR",
        "outputId": "f58697e2-228a-4924-c07e-91f0a44a509e"
      },
      "source": [
        "eucDistances[0].dist"
      ],
      "execution_count": null,
      "outputs": [
        {
          "output_type": "execute_result",
          "data": {
            "text/plain": [
              "7.810249675906654"
            ]
          },
          "metadata": {},
          "execution_count": 10
        }
      ]
    },
    {
      "cell_type": "markdown",
      "metadata": {
        "id": "67seTigUFbW7"
      },
      "source": [
        "and sort them like this:"
      ]
    },
    {
      "cell_type": "code",
      "metadata": {
        "id": "J0rEdJXKFctw"
      },
      "source": [
        "eucDistances.sort(key=lambda x: x.dist) "
      ],
      "execution_count": null,
      "outputs": []
    },
    {
      "cell_type": "markdown",
      "metadata": {
        "id": "eWzp7vM9FgLm"
      },
      "source": [
        "Questions:\n",
        "\n",
        "1. What is the label for point if k=1?\n",
        "2. What is the label for point if k=3?\n",
        "3. Would the result be different if we used a different distance function like Hamming or Manhattan?"
      ]
    },
    {
      "cell_type": "code",
      "source": [
        "def euclideanDistance(instance1, instance2, length):\n",
        "   distance = 0\n",
        "   for x in range(length):\n",
        "         #print ('x is ' , x)\n",
        "         num1=float(instance1[x])\n",
        "         num2=float(instance2[x])\n",
        "         distance = distance + pow(num1-num2, 2)\n",
        "   return math.sqrt(distance)\n",
        "\n",
        "print(\"*********************FOR EUCLIDIAN DISTANCE**********************\")\n",
        "\n",
        "\n",
        "eucDistances = [] # list of distances, will hold objects of type distClass\n",
        "for i in range(0,len(dataset)):\n",
        "  temp=dataset[i]\n",
        "  label=temp[-1]\n",
        "  d=euclideanDistance(point,temp,3)\n",
        "  # print(\"The distances between \" , point , \" and \" , temp,  \" is \" , str(d))\n",
        "  # print(\" and the label is \" + label)\n",
        "  obj = distClass() #one record's distance and tag\n",
        "  obj.dist=d\n",
        "  obj.tag=label\n",
        "  eucDistances.append(obj)\n",
        "eucDistances.sort(key=lambda x: x.dist) \n",
        "\n",
        "print(\"FOR K = 1\")\n",
        "label = eucDistances[0].tag\n",
        "print(f\"The label for our point is: {label}\")\n",
        "\n",
        "print(\"FOR K = 3\")\n",
        "k = 3\n",
        "male_tags = 0\n",
        "female_tags = 0\n",
        "for i in range(0,k):\n",
        "  label = eucDistances[0].tag\n",
        "  if label == 'M':\n",
        "      male_tags += 1\n",
        "  if label == 'F':\n",
        "      female_tags += 1\n",
        "if male_tags > female_tags:\n",
        "  label = 'M'\n",
        "  print(f\"The label for our point is: {label}\")\n",
        "if male_tags <= female_tags:\n",
        "  label = 'F'\n",
        "  print(f\"The label for our point is: {label}\")\n",
        "\n",
        "print(\"*********************FOR HAMMING DISTANCE**********************\")\n",
        "\n",
        "\n",
        "#inspired by https://www.statology.org/hamming-distance-python/ \n",
        "from scipy.spatial.distance import hamming\n",
        "def hamming_distance(vec1,vec2,length):\n",
        "  return hamming(vec1, vec2) * len(vec1)\n",
        "\n",
        "\n",
        "#Checking the point with all points in the list\n",
        "hamDistances = [] # list of distances, will hold objects of type distClass\n",
        "for i in range(0,len(dataset)):\n",
        "  temp=dataset[i]\n",
        "  label=temp[-1]\n",
        "  d=hamming_distance(point,temp,0)\n",
        "  # print(\"The distances between \" , point , \" and \" , temp,  \" is \" , str(d))\n",
        "  # print(\" and the label is \" + label)\n",
        "  obj = distClass() #one record's distance and tag\n",
        "  obj.dist=d\n",
        "  obj.tag=label\n",
        "  hamDistances.append(obj)\n",
        "hamDistances.sort(key=lambda x: x.dist)\n",
        "\n",
        "\n",
        "print(\"FOR K = 1\")\n",
        "label = hamDistances[0].tag\n",
        "print(f\"The label for our point is: {label}\")\n",
        "\n",
        "print(\"FOR K = 3\")\n",
        "k = 3\n",
        "male_tags = 0\n",
        "female_tags = 0\n",
        "for i in range(0,k):\n",
        "  label = hamDistances[0].tag\n",
        "  if label == 'M':\n",
        "      male_tags += 1\n",
        "  if label == 'F':\n",
        "      female_tags += 1\n",
        "if male_tags > female_tags:\n",
        "  label = 'M'\n",
        "  print(f\"The label for our point is: {label}\")\n",
        "if male_tags <= female_tags:\n",
        "  label = 'F'\n",
        "  print(f\"The label for our point is: {label}\")\n",
        "\n",
        "\n",
        "print(\"*********************FOR MANHATTAN DISTANCE**********************\")\n",
        "#from https://datagy.io/manhattan-distance-python/#:~:text=In%20a%20two%2Ddimensional%20space,%2B%20%7Cy2%20%2D%20y1%7C%20.\n",
        "def manhattan_distance(point1, point2,length):\n",
        "    distance = 0\n",
        "    #get rid of the label so the point can be used just for it's values.\n",
        "    point1 = point1[:len(point1)-1]\n",
        "    point2 = point2[:len(point2)-1]\n",
        "    for x1, x2 in zip(point1, point2):\n",
        "        difference = int(x2) - int(x1)\n",
        "        absolute_difference = abs(difference)\n",
        "        distance += absolute_difference\n",
        "\n",
        "    return distance\n",
        "\n",
        "\n",
        "#Checking the point with all points in the list\n",
        "manhattanDistances = [] # list of distances, will hold objects of type distClass\n",
        "for i in range(0,len(dataset)):\n",
        "  temp=dataset[i]\n",
        "  label=temp[-1]\n",
        "  d=manhattan_distance(point,temp,0)\n",
        "  # print(\"The distances between \" , point , \" and \" , temp,  \" is \" , str(d))\n",
        "  # print(\" and the label is \" + label)\n",
        "  obj = distClass() #one record's distance and tag\n",
        "  obj.dist=d\n",
        "  obj.tag=label\n",
        "  manhattanDistances.append(obj)\n",
        "manhattanDistances.sort(key=lambda x: x.dist)\n",
        "\n",
        "\n",
        "print(\"FOR K = 1\")\n",
        "label = manhattanDistances[0].tag\n",
        "print(f\"The label for our point is: {label}\")\n",
        "\n",
        "print(\"FOR K = 3\")\n",
        "k = 3\n",
        "male_tags = 0\n",
        "female_tags = 0\n",
        "for i in range(0,k):\n",
        "  label = manhattanDistances[0].tag\n",
        "  if label == 'M':\n",
        "      male_tags += 1\n",
        "  if label == 'F':\n",
        "      female_tags += 1\n",
        "if male_tags > female_tags:\n",
        "  label = 'M'\n",
        "  print(f\"The label for our point is: {label}\")\n",
        "if male_tags <= female_tags:\n",
        "  label = 'F'\n",
        "  print(f\"The label for our point is: {label}\")\n",
        "\n",
        "\n"
      ],
      "metadata": {
        "colab": {
          "base_uri": "https://localhost:8080/"
        },
        "id": "nC4H9aSKvYjQ",
        "outputId": "5dbc4d6c-8cdb-40b2-9ade-4c738892bc28"
      },
      "execution_count": 37,
      "outputs": [
        {
          "output_type": "stream",
          "name": "stdout",
          "text": [
            "*********************FOR EUCLIDIAN DISTANCE**********************\n",
            "FOR K = 1\n",
            "The label for our point is: F\n",
            "FOR K = 3\n",
            "The label for our point is: F\n",
            "*********************FOR HAMMING DISTANCE**********************\n",
            "FOR K = 1\n",
            "The label for our point is: F\n",
            "FOR K = 3\n",
            "The label for our point is: F\n",
            "*********************FOR MANHATTAN DISTANCE**********************\n",
            "FOR K = 1\n",
            "The label for our point is: F\n",
            "FOR K = 3\n",
            "The label for our point is: F\n"
          ]
        }
      ]
    },
    {
      "cell_type": "code",
      "metadata": {
        "id": "tbHJ5OS5GeCw"
      },
      "source": [
        "#Add code with functions that implement Hamming and Manhattan distances and test \n",
        "#what the label will be for k=1 and k=3 for all possibilities \n",
        "#(6 total: 2 Euclidean, 2 Hamming and 2 Manhattan)"
      ],
      "execution_count": null,
      "outputs": []
    },
    {
      "cell_type": "code",
      "source": [],
      "metadata": {
        "id": "EzgqJCiYIVcK"
      },
      "execution_count": null,
      "outputs": []
    },
    {
      "cell_type": "markdown",
      "metadata": {
        "id": "o-XsqlSRVyEX"
      },
      "source": [
        "Up until here is a simplified version of the homework.\n",
        "Below here is the work for the part we will be checking as the basis of your grade: "
      ]
    },
    {
      "cell_type": "markdown",
      "metadata": {
        "id": "7KPzkCfLGxDK"
      },
      "source": [
        "Now let's look at some bigger files: \n",
        "\n",
        "1. mytrain.csv (for training the model)\n",
        "2. mytest.csv (for testing)\n"
      ]
    },
    {
      "cell_type": "code",
      "metadata": {
        "id": "menQ9SEoG_Ag",
        "colab": {
          "base_uri": "https://localhost:8080/"
        },
        "outputId": "16545b54-c510-4122-cc6f-add35b468621"
      },
      "source": [
        "url = 'https://github.com/rosenfa/ai/blob/master/mytrain.csv?raw=true'\n",
        "train_data = np.array(pd.read_csv(url,  header=0, error_bad_lines=False))\n",
        "url = 'https://github.com/rosenfa/ai/blob/master/mytest.csv?raw=true'\n",
        "test_data = np.array(pd.read_csv(url,  header=0, error_bad_lines=False))"
      ],
      "execution_count": 33,
      "outputs": [
        {
          "output_type": "stream",
          "name": "stderr",
          "text": [
            "/usr/local/lib/python3.8/dist-packages/IPython/core/interactiveshell.py:3326: FutureWarning: The error_bad_lines argument has been deprecated and will be removed in a future version.\n",
            "\n",
            "\n",
            "  exec(code_obj, self.user_global_ns, self.user_ns)\n"
          ]
        }
      ]
    },
    {
      "cell_type": "code",
      "metadata": {
        "id": "ej1wLymKHPnT",
        "colab": {
          "base_uri": "https://localhost:8080/"
        },
        "outputId": "7a9713d6-6611-46a2-b173-9f4530b1b222"
      },
      "source": [
        "print(train_data.shape)# number of records and features\n",
        "print(train_data)"
      ],
      "execution_count": 34,
      "outputs": [
        {
          "output_type": "stream",
          "name": "stdout",
          "text": [
            "(100, 30)\n",
            "[[0.317251 0.540016 0.150514 ... 0.0 0.212007 'F']\n",
            " [3.882181 0.0 0.0 ... 0.0 0.0 'F']\n",
            " [1.790708 0.0 0.0 ... 0.0 0.0 'F']\n",
            " ...\n",
            " [0.0 0.0 0.0 ... 0.0 0.0 'M']\n",
            " [0.0 0.0 0.0 ... 0.0 0.0 'M']\n",
            " [0.0 0.0 0.0 ... 0.0 0.0 'F']]\n"
          ]
        }
      ]
    },
    {
      "cell_type": "code",
      "metadata": {
        "id": "v9YKMlcPHVWU",
        "colab": {
          "base_uri": "https://localhost:8080/"
        },
        "outputId": "c9a3dd4f-e973-421e-c5f5-e7b5bd43845d"
      },
      "source": [
        "print(test_data.shape)# number of records and features\n",
        "print(test_data)"
      ],
      "execution_count": null,
      "outputs": [
        {
          "output_type": "stream",
          "name": "stdout",
          "text": [
            "(100, 30)\n",
            "[[2.85985 0.66275 0.0 ... 0.995289 0.0 'F']\n",
            " [0.0 12.998726 0.0 ... 0.0 0.0 'F']\n",
            " [13.231318 0.0 0.0 ... 0.0 0.0 'F']\n",
            " ...\n",
            " [0.0 0.0 0.0 ... 0.0 0.0 'M']\n",
            " [1.688611 0.0 3.204529 ... 0.0 0.0 'M']\n",
            " [0.0 0.0 0.0 ... 0.0 0.0 'M']]\n"
          ]
        }
      ]
    },
    {
      "cell_type": "markdown",
      "metadata": {
        "id": "hsjBpdObIB7d"
      },
      "source": [
        "I hope by now you understand where we are going with this :)\n",
        "\n",
        "Now implement the knn code with 3 different values for k:\n",
        "1. k = 1\n",
        "2. k = 7\n",
        "3. k = 15\n",
        "\n",
        "and at first use the Euclidean distance.\n",
        "Classify each of the vectors in the test_data dataset using the training data from train_data.  Which value for k did the best?  What accuracy did it give you?\n",
        "\n",
        "Now see if using Hamming or Manhattan distance give any better results for the same values of k.  \n",
        "\n",
        "Once you are done, you should have a total of 9 different results:\n",
        "\n",
        "1. Three results for the different value of k using the Euclidean Distance\n",
        "2. Three results for the different value of k using the Hamming Distance\n",
        "3. Three results for the different value of k using the Manhattan Distance\n",
        "\n",
        "Hint: I strongly suggest you base yourself on the code you've seen until this point so you don't have to reinvent the wheel!"
      ]
    },
    {
      "cell_type": "code",
      "source": [
        "#define the different distance formulas\n",
        "def euclideanDistance(instance1, instance2, length):\n",
        "   distance = 0\n",
        "   for x in range(length):\n",
        "         #print ('x is ' , x)\n",
        "         num1=float(instance1[x])\n",
        "         num2=float(instance2[x])\n",
        "         distance = distance + pow(num1-num2, 2)\n",
        "   return math.sqrt(distance)\n",
        "\n",
        "from scipy.spatial.distance import hamming\n",
        "def hamming_distance(vec1,vec2,length):\n",
        "  # print(vec1,vec2)\n",
        "  return hamming(vec1, vec2) * len(vec1)\n",
        "\n",
        "def manhattan_distance(point1, point2,length):\n",
        "    distance = 0\n",
        "    #get rid of the label so the point can be used just for it's values.\n",
        "    point1 = point1[:len(point1)-1]\n",
        "    point2 = point2[:len(point2)-1]\n",
        "    for x1, x2 in zip(point1, point2):\n",
        "        difference = int(x2) - int(x1)\n",
        "        absolute_difference = abs(difference)\n",
        "        distance += absolute_difference\n",
        "\n",
        "    return distance"
      ],
      "metadata": {
        "id": "Wx5HqV-t2Gyx"
      },
      "execution_count": 58,
      "outputs": []
    },
    {
      "cell_type": "code",
      "metadata": {
        "id": "dIyZbN4kJBrO"
      },
      "source": [
        "def knn(distance_formula,dataset,test_set,k):\n",
        "  print(f\"FOR K = {k}\")\n",
        "  total_guesses = 0\n",
        "  correct_guesses = 0\n",
        "  distances = []\n",
        "  for j in range(0,len(test_set)):\n",
        "    for i in range(0,len(dataset)):\n",
        "        temp=dataset[i]\n",
        "        test_temp = test_set[j]\n",
        "        label=temp[-1]\n",
        "        d=distance_formula(test_temp,temp,3)\n",
        "        # print(\"The distances between \" , point , \" and \" , temp,  \" is \" , str(d))\n",
        "        # print(\" and the label is \" + label)\n",
        "        obj = distClass() #one record's distance and tag\n",
        "        obj.dist=d\n",
        "        obj.tag=label\n",
        "        distances.append(obj)\n",
        "    distances.sort(key=lambda x: x.dist) \n",
        "\n",
        "    if k == 1:\n",
        "      # print(\"FOR K = 1\")\n",
        "      label = distances[0].tag\n",
        "      # print(f\"The label for our point {test_temp} is: {label}\")\n",
        "      if test_temp[len(test_temp)-1] == label:\n",
        "          correct_guesses +=1\n",
        "      total_guesses += 1\n",
        "    \n",
        "    if k != 1:\n",
        "\n",
        "      # print(f\"FOR K = {k}\")\n",
        "      male_tags = 0\n",
        "      female_tags = 0\n",
        "      for i in range(0,k):\n",
        "        label = eucDistances[0].tag\n",
        "        if label == 'M':\n",
        "            male_tags += 1\n",
        "        if label == 'F':\n",
        "            female_tags += 1\n",
        "      if male_tags > female_tags:\n",
        "        label = 'M'\n",
        "        # print(f\"The label for our point {test_temp} is: {label}\")\n",
        "      if male_tags <= female_tags:\n",
        "        label = 'F'\n",
        "        # print(f\"The label for our point {test_temp} is: {label}\")\n",
        "      if test_temp[len(test_temp)-1] == label:\n",
        "          correct_guesses +=1\n",
        "      total_guesses += 1\n",
        "  print(f\"total_guesses: {total_guesses}\")\n",
        "  print(f\"correct_guesses: {correct_guesses}\")\n",
        "  print(f\"Accuracy for {k} with {distance_formula} is : {100 * correct_guesses/total_guesses}%\")"
      ],
      "execution_count": 71,
      "outputs": []
    },
    {
      "cell_type": "code",
      "source": [
        "print(\"*********************FOR EUCLIDIAN DISTANCE**********************\")\n",
        "knn(euclideanDistance,train_data,test_data,1)\n",
        "knn(euclideanDistance,train_data,test_data,7)\n",
        "knn(euclideanDistance,train_data,test_data,15)\n",
        "print(\"*********************FOR HAMMING DISTANCE**********************\")\n",
        "knn(hamming_distance,train_data,test_data,1)\n",
        "knn(hamming_distance,train_data,test_data,7)\n",
        "knn(hamming_distance,train_data,test_data,15)\n",
        "print(\"*********************FOR MANHATTAN DISTANCE**********************\")\n",
        "knn(manhattan_distance,train_data,test_data,1)\n",
        "knn(manhattan_distance,train_data,test_data,7)\n",
        "knn(manhattan_distance,train_data,test_data,15)"
      ],
      "metadata": {
        "colab": {
          "base_uri": "https://localhost:8080/"
        },
        "id": "oje1M1Go2o84",
        "outputId": "b4675009-22f7-434d-9e60-e477aeed3c9c"
      },
      "execution_count": 72,
      "outputs": [
        {
          "output_type": "stream",
          "name": "stdout",
          "text": [
            "*********************FOR EUCLIDIAN DISTANCE**********************\n",
            "FOR K = 1\n",
            "total_guesses: 100\n",
            "correct_guesses: 51\n",
            "Accuracy for 1 with <function euclideanDistance at 0x7f708be0d3a0> is : 51.0%\n",
            "FOR K = 7\n",
            "total_guesses: 100\n",
            "correct_guesses: 54\n",
            "Accuracy for 7 with <function euclideanDistance at 0x7f708be0d3a0> is : 54.0%\n",
            "FOR K = 15\n",
            "total_guesses: 100\n",
            "correct_guesses: 54\n",
            "Accuracy for 15 with <function euclideanDistance at 0x7f708be0d3a0> is : 54.0%\n",
            "*********************FOR HAMMING DISTANCE**********************\n",
            "FOR K = 1\n",
            "total_guesses: 100\n",
            "correct_guesses: 54\n",
            "Accuracy for 1 with <function hamming_distance at 0x7f70833f4790> is : 54.0%\n",
            "FOR K = 7\n",
            "total_guesses: 100\n",
            "correct_guesses: 54\n",
            "Accuracy for 7 with <function hamming_distance at 0x7f70833f4790> is : 54.0%\n",
            "FOR K = 15\n",
            "total_guesses: 100\n",
            "correct_guesses: 54\n",
            "Accuracy for 15 with <function hamming_distance at 0x7f70833f4790> is : 54.0%\n",
            "*********************FOR MANHATTAN DISTANCE**********************\n",
            "FOR K = 1\n",
            "total_guesses: 100\n",
            "correct_guesses: 3\n",
            "Accuracy for 1 with <function manhattan_distance at 0x7f7083439550> is : 3.0%\n",
            "FOR K = 7\n",
            "total_guesses: 100\n",
            "correct_guesses: 54\n",
            "Accuracy for 7 with <function manhattan_distance at 0x7f7083439550> is : 54.0%\n",
            "FOR K = 15\n",
            "total_guesses: 100\n",
            "correct_guesses: 54\n",
            "Accuracy for 15 with <function manhattan_distance at 0x7f7083439550> is : 54.0%\n"
          ]
        }
      ]
    },
    {
      "cell_type": "markdown",
      "metadata": {
        "id": "HD2PnNuTQ175"
      },
      "source": [
        "Grade Basis:\n",
        "\n",
        "80% for correct answers (and yes, there are possibilities that multiple answers are correct-- especially for cases of ties).\n",
        "\n",
        "20% : Documentation and easily readable code\n",
        "\n",
        "Please publish your final Notebook in your Github directory.\n",
        "\n",
        "The homework assignment is due by November 30th.\n"
      ]
    }
  ]
}